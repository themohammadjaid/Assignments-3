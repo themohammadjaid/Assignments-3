{
 "cells": [
  {
   "cell_type": "code",
   "execution_count": 3,
   "id": "69793df7-9a4c-46b3-b935-0f9f1bf68fb7",
   "metadata": {},
   "outputs": [
    {
     "data": {
      "text/plain": [
       "'\\nQ.1 Who developed python programming language\\n'"
      ]
     },
     "execution_count": 3,
     "metadata": {},
     "output_type": "execute_result"
    }
   ],
   "source": [
    "Q.1 Who developed python programming language"
   ]
  },
  {
   "cell_type": "code",
   "execution_count": 4,
   "id": "e9a030a3-feb8-47d3-971d-787fb86dde06",
   "metadata": {},
   "outputs": [
    {
     "data": {
      "text/plain": [
       "'\\nPython programming language was created by **Guido van Rossum** \\nin the late 1980s and its implementation\\nbegan in December 1989 at CWI in netherlands\\n'"
      ]
     },
     "execution_count": 4,
     "metadata": {},
     "output_type": "execute_result"
    }
   ],
   "source": [
    "'''\n",
    "Python programming language was created by **Guido van Rossum** \n",
    "in the late 1980s and its implementation\n",
    "began in December 1989 at CWI in netherlands\n",
    "'''"
   ]
  },
  {
   "cell_type": "code",
   "execution_count": 5,
   "id": "0111c1e2-88ac-49e0-b667-707c32294efe",
   "metadata": {},
   "outputs": [
    {
     "data": {
      "text/plain": [
       "'\\nQ2. which type of programming does python support ?\\n'"
      ]
     },
     "execution_count": 5,
     "metadata": {},
     "output_type": "execute_result"
    }
   ],
   "source": [
    "Q2. which type of programming does python support ?"
   ]
  },
  {
   "cell_type": "code",
   "execution_count": 6,
   "id": "15207bb4-fdd3-4584-bcea-954981f43cf6",
   "metadata": {},
   "outputs": [
    {
     "data": {
      "text/plain": [
       "'\\nPython is a multi-paradigm programming language,\\nwhich means it supports multiple programming paradigms\\n'"
      ]
     },
     "execution_count": 6,
     "metadata": {},
     "output_type": "execute_result"
    }
   ],
   "source": [
    "'''\n",
    "Python is a multi-paradigm programming language,\n",
    "which means it supports multiple programming paradigms\n",
    "'''"
   ]
  },
  {
   "cell_type": "code",
   "execution_count": 8,
   "id": "cfd276bc-6313-4799-b00b-b2c53b64383e",
   "metadata": {},
   "outputs": [
    {
     "data": {
      "text/plain": [
       "'\\nwhat is the correct extension for python file\\n'"
      ]
     },
     "execution_count": 8,
     "metadata": {},
     "output_type": "execute_result"
    }
   ],
   "source": [
    "Q.3 what is the correct extension for python file"
   ]
  },
  {
   "cell_type": "code",
   "execution_count": 9,
   "id": "ef202a41-4fc0-4414-9e8b-e030274fedca",
   "metadata": {},
   "outputs": [
    {
     "data": {
      "text/plain": [
       "'\\n.py is the correct extension for python file\\n'"
      ]
     },
     "execution_count": 9,
     "metadata": {},
     "output_type": "execute_result"
    }
   ],
   "source": [
    "'''\n",
    ".py is the correct extension for python file\n",
    "'''"
   ]
  },
  {
   "cell_type": "code",
   "execution_count": 10,
   "id": "e776917a-3358-42a4-9410-4204bd4ba4fc",
   "metadata": {},
   "outputs": [
    {
     "data": {
      "text/plain": [
       "'\\nis python case sensitive when dealing with identifiers\\n'"
      ]
     },
     "execution_count": 10,
     "metadata": {},
     "output_type": "execute_result"
    }
   ],
   "source": [
    "Q.4 is python case sensitive when dealing with identifiers"
   ]
  },
  {
   "cell_type": "code",
   "execution_count": 11,
   "id": "b90ae172-8026-44e3-bf16-a022724c5afc",
   "metadata": {},
   "outputs": [
    {
     "data": {
      "text/plain": [
       "'\\nyes python case sensitive when dealing with identifiers\\n'"
      ]
     },
     "execution_count": 11,
     "metadata": {},
     "output_type": "execute_result"
    }
   ],
   "source": [
    "'''\n",
    "yes python case sensitive when dealing with identifiers\n",
    "'''"
   ]
  },
  {
   "cell_type": "code",
   "execution_count": 12,
   "id": "41e6d859-84d1-4aa9-bce7-d732a14e7ecd",
   "metadata": {},
   "outputs": [
    {
     "data": {
      "text/plain": [
       "' is python code compiled or interpreted\\n'"
      ]
     },
     "execution_count": 12,
     "metadata": {},
     "output_type": "execute_result"
    }
   ],
   "source": [
    "Q.5 is python code compiled or interpreted"
   ]
  },
  {
   "cell_type": "code",
   "execution_count": 14,
   "id": "d8ebf1aa-3316-4629-91d3-7b96cd449b87",
   "metadata": {},
   "outputs": [
    {
     "data": {
      "text/plain": [
       "'\\nits compiled/interpreted language\\n'"
      ]
     },
     "execution_count": 14,
     "metadata": {},
     "output_type": "execute_result"
    }
   ],
   "source": [
    "'''\n",
    "its compiled/interpreted language\n",
    "'''"
   ]
  },
  {
   "cell_type": "code",
   "execution_count": 16,
   "id": "a5d1a39a-0703-4149-8adf-9a762d405d55",
   "metadata": {},
   "outputs": [
    {
     "data": {
      "text/plain": [
       "'\\nname a few block of code used to define in python language\\n'"
      ]
     },
     "execution_count": 16,
     "metadata": {},
     "output_type": "execute_result"
    }
   ],
   "source": [
    "Q.6 name a few block of code used to define in python language"
   ]
  },
  {
   "cell_type": "code",
   "execution_count": 17,
   "id": "bbf79e02-ddde-40db-b697-d9015ee1be1c",
   "metadata": {},
   "outputs": [
    {
     "data": {
      "text/plain": [
       "'\\nidentation\\n'"
      ]
     },
     "execution_count": 17,
     "metadata": {},
     "output_type": "execute_result"
    }
   ],
   "source": [
    "'''\n",
    "identation\n",
    "'''"
   ]
  },
  {
   "cell_type": "code",
   "execution_count": 18,
   "id": "51bec58b-3f64-4fc2-a5e9-8a3da4468724",
   "metadata": {},
   "outputs": [
    {
     "data": {
      "text/plain": [
       "'\\nstate a character used to give single line comment in python\\n'"
      ]
     },
     "execution_count": 18,
     "metadata": {},
     "output_type": "execute_result"
    }
   ],
   "source": [
    "Q.7 state a character used to give single line comment in python"
   ]
  },
  {
   "cell_type": "code",
   "execution_count": 19,
   "id": "319a2574-9ee4-40e0-a524-e9b08dd32f67",
   "metadata": {},
   "outputs": [
    {
     "data": {
      "text/plain": [
       "'\\nfor single line comment we use # in the beginning\\n'"
      ]
     },
     "execution_count": 19,
     "metadata": {},
     "output_type": "execute_result"
    }
   ],
   "source": [
    "'''\n",
    "for single line comment we use # in the beginning\n",
    "'''"
   ]
  },
  {
   "cell_type": "code",
   "execution_count": null,
   "id": "069d7977-5a14-4841-9be4-51464907baf1",
   "metadata": {},
   "outputs": [],
   "source": [
    "Q.8 mention functions which can help us to find the version of python that \n",
    "    we are currently working on ?"
   ]
  },
  {
   "cell_type": "code",
   "execution_count": 2,
   "id": "f01311c3-2468-4e69-95c0-48fdd13f5e5c",
   "metadata": {},
   "outputs": [
    {
     "data": {
      "text/plain": [
       "'\\nits sys.version\\n'"
      ]
     },
     "execution_count": 2,
     "metadata": {},
     "output_type": "execute_result"
    }
   ],
   "source": [
    "'''\n",
    "its sys.version\n",
    "'''"
   ]
  },
  {
   "cell_type": "code",
   "execution_count": null,
   "id": "87739b22-31fc-42ac-bb49-e35807a375bd",
   "metadata": {},
   "outputs": [],
   "source": [
    "Q.9 python supports the creation of anonymous function \n",
    "    at runtime, using a cunstructor called"
   ]
  },
  {
   "cell_type": "code",
   "execution_count": null,
   "id": "0d5a4028-07c7-4a77-b33e-74f1af1a4e4b",
   "metadata": {},
   "outputs": [],
   "source": [
    "'''\n",
    "lambda \n",
    "'''"
   ]
  },
  {
   "cell_type": "code",
   "execution_count": null,
   "id": "61c88316-2d4a-4d2e-9ea2-68b60f5cb576",
   "metadata": {},
   "outputs": [],
   "source": [
    "Q.10 does pip stand for python ?"
   ]
  },
  {
   "cell_type": "code",
   "execution_count": 1,
   "id": "937017a7-664b-4798-9f93-d22ede1a2399",
   "metadata": {},
   "outputs": [
    {
     "data": {
      "text/plain": [
       "'\\npip stands for preferred installer program\\n'"
      ]
     },
     "execution_count": 1,
     "metadata": {},
     "output_type": "execute_result"
    }
   ],
   "source": [
    "'''\n",
    "pip stands for preferred installer program\n",
    "'''"
   ]
  },
  {
   "cell_type": "code",
   "execution_count": null,
   "id": "9c107b89-3fa7-419a-83bc-fee498657b41",
   "metadata": {},
   "outputs": [],
   "source": [
    "Q.11 mention few built in function in python ?"
   ]
  },
  {
   "cell_type": "code",
   "execution_count": 3,
   "id": "30a5f6d7-32b4-46f6-bf75-793a5c16eaec",
   "metadata": {},
   "outputs": [
    {
     "data": {
      "text/plain": [
       "'\\nprint\\n'"
      ]
     },
     "execution_count": 3,
     "metadata": {},
     "output_type": "execute_result"
    }
   ],
   "source": [
    "'''\n",
    "print\n",
    "'''"
   ]
  },
  {
   "cell_type": "code",
   "execution_count": null,
   "id": "37ff51fc-0986-4200-9860-3c6babaef93d",
   "metadata": {},
   "outputs": [],
   "source": [
    "Q.12 what is the maximum possible length of an \n",
    "     identifier in pyhton"
   ]
  },
  {
   "cell_type": "code",
   "execution_count": 4,
   "id": "ff79a761-f7e9-4344-a7dd-b7127a0d83fa",
   "metadata": {},
   "outputs": [
    {
     "data": {
      "text/plain": [
       "'\\nidentifiers can be of any length\\n'"
      ]
     },
     "execution_count": 4,
     "metadata": {},
     "output_type": "execute_result"
    }
   ],
   "source": [
    "'''\n",
    "identifiers can be of any length\n",
    "'''"
   ]
  },
  {
   "cell_type": "code",
   "execution_count": null,
   "id": "139f6537-a009-49af-b0b2-bf0f09ed1139",
   "metadata": {},
   "outputs": [],
   "source": [
    "Q.13 what are the benefits of using python"
   ]
  },
  {
   "cell_type": "code",
   "execution_count": 5,
   "id": "6ede42e7-cb33-40fd-91b8-fed7adf3f7ee",
   "metadata": {},
   "outputs": [
    {
     "data": {
      "text/plain": [
       "'\\n1) python is a powerful programming language \\n2) python include its extensibility\\n3) python has largest number of libraries\\n4) python has a large and active community\\n'"
      ]
     },
     "execution_count": 5,
     "metadata": {},
     "output_type": "execute_result"
    }
   ],
   "source": [
    "'''\n",
    "1) python is a powerful programming language \n",
    "2) python include its extensibility\n",
    "3) python has largest number of libraries\n",
    "4) python has a large and active community\n",
    "'''"
   ]
  },
  {
   "cell_type": "code",
   "execution_count": null,
   "id": "0f869347-9227-40d5-9eb9-58098e3bf87b",
   "metadata": {},
   "outputs": [],
   "source": [
    "Q.14 how is memory managed in python "
   ]
  },
  {
   "cell_type": "code",
   "execution_count": 6,
   "id": "cd0bf4ba-7a35-406d-8741-6aa1ef63c023",
   "metadata": {},
   "outputs": [
    {
     "data": {
      "text/plain": [
       "'\\npython uses private heap to store object and \\ndata structures used by the program\\n'"
      ]
     },
     "execution_count": 6,
     "metadata": {},
     "output_type": "execute_result"
    }
   ],
   "source": [
    "'''\n",
    "python uses private heap to store object and \n",
    "data structures used by the program\n",
    "'''"
   ]
  },
  {
   "cell_type": "code",
   "execution_count": null,
   "id": "33fe5436-5b6f-4be9-8579-00c5bd23ff0a",
   "metadata": {},
   "outputs": [],
   "source": [
    "Q.15 how to install python on windows and \n",
    "     set path variables"
   ]
  },
  {
   "cell_type": "code",
   "execution_count": 7,
   "id": "1b5ba9e9-37b8-432e-9169-e08f6bce6e30",
   "metadata": {},
   "outputs": [
    {
     "data": {
      "text/plain": [
       "\"\\n1) Right-click on this PC and select properties\\n2) Click on advanced system setting in the menu on the left\\n3) In the system variables section, select the path variables\\n   and click on edit.\\n4) Click on New and enter Python's install directoy.\\n\""
      ]
     },
     "execution_count": 7,
     "metadata": {},
     "output_type": "execute_result"
    }
   ],
   "source": [
    "'''\n",
    "1) Right-click on this PC and select properties\n",
    "2) Click on advanced system setting in the menu on the left\n",
    "3) In the system variables section, select the path variables\n",
    "   and click on edit.\n",
    "4) Click on New and enter Python's install directoy.\n",
    "'''"
   ]
  },
  {
   "cell_type": "code",
   "execution_count": null,
   "id": "dd30db73-adbf-4cb0-bd33-496da428c29b",
   "metadata": {},
   "outputs": [],
   "source": []
  }
 ],
 "metadata": {
  "kernelspec": {
   "display_name": "Python 3 (ipykernel)",
   "language": "python",
   "name": "python3"
  },
  "language_info": {
   "codemirror_mode": {
    "name": "ipython",
    "version": 3
   },
   "file_extension": ".py",
   "mimetype": "text/x-python",
   "name": "python",
   "nbconvert_exporter": "python",
   "pygments_lexer": "ipython3",
   "version": "3.10.8"
  }
 },
 "nbformat": 4,
 "nbformat_minor": 5
}
